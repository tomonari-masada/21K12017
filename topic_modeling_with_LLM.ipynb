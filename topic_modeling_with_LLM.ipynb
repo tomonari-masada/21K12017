{
  "cells": [
    {
      "cell_type": "markdown",
      "metadata": {
        "id": "view-in-github",
        "colab_type": "text"
      },
      "source": [
        "<a href=\"https://colab.research.google.com/github/tomonari-masada/21K12017/blob/main/topic_modeling_with_LLM.ipynb\" target=\"_parent\"><img src=\"https://colab.research.google.com/assets/colab-badge.svg\" alt=\"Open In Colab\"/></a>"
      ]
    },
    {
      "cell_type": "code",
      "execution_count": null,
      "metadata": {
        "id": "iNTgoe24FZqu"
      },
      "outputs": [],
      "source": [
        "import numpy as np\n",
        "from tqdm.auto import tqdm\n",
        "\n",
        "import spacy\n",
        "from sklearn.feature_extraction.text import TfidfVectorizer\n",
        "from sklearn.cluster import KMeans\n",
        "from sklearn.metrics.pairwise import cosine_similarity\n",
        "\n",
        "import torch\n",
        "import torch.nn as nn\n",
        "from datasets import load_dataset\n",
        "from transformers import (\n",
        "    set_seed,\n",
        "    BitsAndBytesConfig,\n",
        "    AutoModelForSequenceClassification,\n",
        "    AutoTokenizer,\n",
        "    TrainingArguments,\n",
        ")\n",
        "from transformers.modeling_outputs import ModelOutput\n",
        "from peft import LoraConfig, PeftModel\n",
        "from trl import SFTTrainer\n",
        "\n",
        "set_seed(123)"
      ]
    },
    {
      "cell_type": "code",
      "execution_count": null,
      "metadata": {
        "id": "CeCp_CGVFZqx"
      },
      "outputs": [],
      "source": [
        "def accuracy(trainer, dataset, batch_size=4):\n",
        "    trainer.model.eval()\n",
        "    num_correct_answers, num_answers = 0, 0\n",
        "    for i in tqdm(range(0, len(dataset), batch_size)):\n",
        "        examples = dataset[i:i+batch_size]\n",
        "        encodings = trainer.tokenizer(\n",
        "            examples[\"title\"],\n",
        "            padding=True,\n",
        "            return_tensors=\"pt\",\n",
        "        )\n",
        "        category = torch.tensor(examples[\"category\"])\n",
        "        with torch.no_grad():\n",
        "            outputs = trainer.model(**encodings, category=category)\n",
        "        predicted = outputs.logits.argmax(-1)\n",
        "        num_correct_answers += (predicted == category).sum()\n",
        "        num_answers += len(examples[\"category\"])\n",
        "    trainer.model.train()\n",
        "    return (num_correct_answers / num_answers).item()"
      ]
    },
    {
      "cell_type": "code",
      "execution_count": null,
      "metadata": {
        "id": "vzVuGJyOFZqx"
      },
      "outputs": [],
      "source": [
        "def embed(trainer, dataset, batch_size=4):\n",
        "    trainer.model.eval()\n",
        "    pooled_hidden_states = []\n",
        "    for i in tqdm(range(0, len(dataset), batch_size)):\n",
        "        examples = dataset[i:i+batch_size]\n",
        "        encodings = trainer.tokenizer(\n",
        "            examples[\"title\"],\n",
        "            padding=True,\n",
        "            return_tensors=\"pt\",\n",
        "        )\n",
        "        with torch.no_grad():\n",
        "            outputs = trainer.model.pretrained.model(**encodings)\n",
        "        last_hidden_state = outputs.last_hidden_state\n",
        "        pad_token_id = trainer.model.pretrained.config.pad_token_id\n",
        "        input_ids = encodings.input_ids\n",
        "        sequence_lengths = torch.eq(input_ids, pad_token_id).int().argmax(-1)\n",
        "        sequence_lengths = (sequence_lengths - 1) % input_ids.shape[-1]\n",
        "        temp_batch_size = input_ids.shape[0]\n",
        "        pooled_hidden_state = last_hidden_state[\n",
        "            torch.arange(temp_batch_size, device=last_hidden_state.device),\n",
        "            sequence_lengths]\n",
        "        pooled_hidden_state = pooled_hidden_state.float().cpu().numpy()\n",
        "        pooled_hidden_states.append(pooled_hidden_state)\n",
        "    trainer.model.train()\n",
        "    return np.concatenate(pooled_hidden_states)"
      ]
    },
    {
      "cell_type": "code",
      "execution_count": null,
      "metadata": {
        "id": "aWvE-K5qFZqy"
      },
      "outputs": [],
      "source": [
        "dataset = load_dataset(\n",
        "    \"shunk031/livedoor-news-corpus\",\n",
        "    train_ratio=0.8, val_ratio=0.1, test_ratio=0.1,\n",
        "    random_state=42,\n",
        "    shuffle=True,\n",
        "    trust_remote_code=True,\n",
        ")\n",
        "num_categories = len(set(dataset[\"train\"][\"category\"]))\n",
        "max_seq_length = 512"
      ]
    },
    {
      "cell_type": "code",
      "execution_count": null,
      "metadata": {
        "id": "CfLwS_kVFZqy",
        "outputId": "73deebec-fb9a-4b36-be42-ddbe29ae1bf4",
        "colab": {
          "referenced_widgets": [
            "da648943555845868281e0f26db6eeb5"
          ]
        }
      },
      "outputs": [
        {
          "name": "stderr",
          "output_type": "stream",
          "text": [
            "/home/masada/anaconda3/lib/python3.11/site-packages/huggingface_hub/file_download.py:1132: FutureWarning: `resume_download` is deprecated and will be removed in version 1.0.0. Downloads always resume when possible. If you want to force a new download, use `force_download=True`.\n",
            "  warnings.warn(\n"
          ]
        },
        {
          "data": {
            "application/vnd.jupyter.widget-view+json": {
              "model_id": "da648943555845868281e0f26db6eeb5",
              "version_major": 2,
              "version_minor": 0
            },
            "text/plain": [
              "Loading checkpoint shards:   0%|          | 0/2 [00:00<?, ?it/s]"
            ]
          },
          "metadata": {},
          "output_type": "display_data"
        },
        {
          "name": "stderr",
          "output_type": "stream",
          "text": [
            "Some weights of LlamaForSequenceClassification were not initialized from the model checkpoint at elyza/ELYZA-japanese-Llama-2-7b and are newly initialized: ['score.weight']\n",
            "You should probably TRAIN this model on a down-stream task to be able to use it for predictions and inference.\n"
          ]
        }
      ],
      "source": [
        "model_name = \"elyza/ELYZA-japanese-Llama-2-7b\"\n",
        "\n",
        "bnb_config = BitsAndBytesConfig(\n",
        "    load_in_4bit=True,\n",
        "    bnb_4bit_quant_type=\"nf4\",\n",
        "    bnb_4bit_compute_dtype=torch.bfloat16,\n",
        "    bnb_4bit_use_double_quant=True,\n",
        "    bnb_4bit_quant_storage=torch.bfloat16,\n",
        ")\n",
        "\n",
        "pretrained = AutoModelForSequenceClassification.from_pretrained(\n",
        "    model_name,\n",
        "    num_labels=num_categories,\n",
        "    quantization_config=bnb_config,\n",
        "    torch_dtype=torch.bfloat16,\n",
        "    low_cpu_mem_usage=True,\n",
        ")\n",
        "\n",
        "tokenizer = AutoTokenizer.from_pretrained(\n",
        "    model_name, max_seq_length=max_seq_length,\n",
        ")\n",
        "tokenizer.pad_token = tokenizer.eos_token\n",
        "pretrained.config.pad_token_id = pretrained.config.eos_token_id"
      ]
    },
    {
      "cell_type": "code",
      "execution_count": null,
      "metadata": {
        "id": "_I95lNmuFZqz"
      },
      "outputs": [],
      "source": [
        "class MyNetForClassification(nn.Module):\n",
        "    def __init__(self, pretrained):\n",
        "        super().__init__()\n",
        "        self.pretrained = pretrained\n",
        "        self.config = self.pretrained.config\n",
        "\n",
        "    def forward(\n",
        "        self, input_ids, category=None, attention_mask=None,\n",
        "        output_attentions=None, output_hidden_states=None,\n",
        "        return_dict=None, inputs_embeds=None, labels=None,\n",
        "    ):\n",
        "        outputs = self.pretrained(\n",
        "            input_ids,\n",
        "            attention_mask=attention_mask,\n",
        "            output_attentions=output_attentions,\n",
        "            output_hidden_states=output_hidden_states,\n",
        "            return_dict=return_dict,\n",
        "        )\n",
        "\n",
        "        loss_fct = nn.CrossEntropyLoss()\n",
        "        loss = loss_fct(outputs.logits, category)\n",
        "        return ModelOutput(\n",
        "            loss=loss,\n",
        "            logits=outputs.logits,\n",
        "            past_key_values=outputs.past_key_values,\n",
        "            hidden_states=outputs.hidden_states,\n",
        "            attentions=outputs.attentions,\n",
        "        )\n",
        "model = MyNetForClassification(pretrained)"
      ]
    },
    {
      "cell_type": "code",
      "execution_count": null,
      "metadata": {
        "id": "9Ipf-w8VFZqz",
        "outputId": "7ff9ef61-9b99-4a0d-9d43-73f4d0e59111"
      },
      "outputs": [
        {
          "data": {
            "text/plain": [
              "device(type='cuda', index=0)"
            ]
          },
          "execution_count": 7,
          "metadata": {},
          "output_type": "execute_result"
        }
      ],
      "source": [
        "pretrained.device"
      ]
    },
    {
      "cell_type": "code",
      "execution_count": null,
      "metadata": {
        "id": "YD58v6NmFZqz"
      },
      "outputs": [],
      "source": [
        "peft_config = LoraConfig(\n",
        "    r=32,\n",
        "    lora_alpha=32,\n",
        "    lora_dropout=0.1,\n",
        "    bias=\"none\",\n",
        "    task_type=\"SEQ_CLS\",\n",
        "    target_modules=[\n",
        "        \"q_proj\", \"k_proj\", \"v_proj\", \"o_proj\",\n",
        "        \"gate_proj\", \"up_proj\", \"down_proj\",\n",
        "    ],\n",
        ")"
      ]
    },
    {
      "cell_type": "code",
      "execution_count": null,
      "metadata": {
        "id": "OD798LOkFZqz"
      },
      "outputs": [],
      "source": [
        "training_args = TrainingArguments(\n",
        "    per_device_train_batch_size=4,\n",
        "    gradient_accumulation_steps=4,\n",
        "    output_dir=\"outputs_cls\",\n",
        "    label_names=[\"category\"],\n",
        "    max_steps=500,\n",
        "    eval_steps=100,\n",
        "    logging_steps=100,\n",
        "    save_steps=100,\n",
        "    learning_rate=5e-5,\n",
        "    evaluation_strategy=\"steps\",\n",
        "    logging_strategy=\"steps\",\n",
        "    save_strategy=\"steps\",\n",
        "    load_best_model_at_end=True,\n",
        ")"
      ]
    },
    {
      "cell_type": "code",
      "execution_count": null,
      "metadata": {
        "id": "r4y5Kpz6FZq0",
        "outputId": "58df050e-326c-49a5-86ab-c25d61683240"
      },
      "outputs": [
        {
          "name": "stderr",
          "output_type": "stream",
          "text": [
            "max_steps is given, it will override any value given in num_train_epochs\n"
          ]
        }
      ],
      "source": [
        "trainer = SFTTrainer(\n",
        "    model=model,\n",
        "    args=training_args,\n",
        "    tokenizer=tokenizer,\n",
        "    max_seq_length=max_seq_length,\n",
        "    train_dataset=dataset[\"train\"],\n",
        "    eval_dataset=dataset[\"validation\"],\n",
        "    dataset_text_field=\"title\",\n",
        "    peft_config=peft_config,\n",
        ")\n",
        "trainer.train_dataset = trainer.train_dataset.add_column(\n",
        "    \"category\", dataset[\"train\"][\"category\"],\n",
        ")\n",
        "trainer.eval_dataset = trainer.eval_dataset.add_column(\n",
        "    \"category\", dataset[\"validation\"][\"category\"],\n",
        ")"
      ]
    },
    {
      "cell_type": "code",
      "execution_count": null,
      "metadata": {
        "id": "b33JoJ9bFZq0",
        "outputId": "0cd18329-1048-418a-8c4b-5067aa0fd781"
      },
      "outputs": [
        {
          "data": {
            "text/html": [
              "\n",
              "    <div>\n",
              "      \n",
              "      <progress value='500' max='500' style='width:300px; height:20px; vertical-align: middle;'></progress>\n",
              "      [500/500 04:45, Epoch 1/2]\n",
              "    </div>\n",
              "    <table border=\"1\" class=\"dataframe\">\n",
              "  <thead>\n",
              " <tr style=\"text-align: left;\">\n",
              "      <th>Step</th>\n",
              "      <th>Training Loss</th>\n",
              "      <th>Validation Loss</th>\n",
              "    </tr>\n",
              "  </thead>\n",
              "  <tbody>\n",
              "    <tr>\n",
              "      <td>100</td>\n",
              "      <td>1.199900</td>\n",
              "      <td>0.588283</td>\n",
              "    </tr>\n",
              "    <tr>\n",
              "      <td>200</td>\n",
              "      <td>0.510100</td>\n",
              "      <td>0.434811</td>\n",
              "    </tr>\n",
              "    <tr>\n",
              "      <td>300</td>\n",
              "      <td>0.426800</td>\n",
              "      <td>0.353464</td>\n",
              "    </tr>\n",
              "    <tr>\n",
              "      <td>400</td>\n",
              "      <td>0.305700</td>\n",
              "      <td>0.297147</td>\n",
              "    </tr>\n",
              "    <tr>\n",
              "      <td>500</td>\n",
              "      <td>0.179700</td>\n",
              "      <td>0.300695</td>\n",
              "    </tr>\n",
              "  </tbody>\n",
              "</table><p>"
            ],
            "text/plain": [
              "<IPython.core.display.HTML object>"
            ]
          },
          "metadata": {},
          "output_type": "display_data"
        },
        {
          "data": {
            "text/plain": [
              "TrainOutput(global_step=500, training_loss=0.5244128608703613, metrics={'train_runtime': 285.8844, 'train_samples_per_second': 27.983, 'train_steps_per_second': 1.749, 'total_flos': 0.0, 'train_loss': 0.5244128608703613, 'epoch': 1.3568521031207599})"
            ]
          },
          "execution_count": 11,
          "metadata": {},
          "output_type": "execute_result"
        }
      ],
      "source": [
        "trainer.train()\n",
        "#trainer.model.save_pretrained(\"models/lora/\" + model_name)\n",
        "#model = PeftModel.from_pretrained(model, \"models/lora/\" + model_name)"
      ]
    },
    {
      "cell_type": "code",
      "execution_count": null,
      "metadata": {
        "id": "JcFVxyMfFZq0",
        "outputId": "c5b9150f-4830-4ceb-e56e-e16a344301b9",
        "colab": {
          "referenced_widgets": [
            "5c68778ad5e34a4ba41a4eed98aea97b"
          ]
        }
      },
      "outputs": [
        {
          "data": {
            "application/vnd.jupyter.widget-view+json": {
              "model_id": "5c68778ad5e34a4ba41a4eed98aea97b",
              "version_major": 2,
              "version_minor": 0
            },
            "text/plain": [
              "  0%|          | 0/185 [00:00<?, ?it/s]"
            ]
          },
          "metadata": {},
          "output_type": "display_data"
        },
        {
          "data": {
            "text/plain": [
              "0.9131614565849304"
            ]
          },
          "execution_count": 12,
          "metadata": {},
          "output_type": "execute_result"
        }
      ],
      "source": [
        "accuracy(trainer, dataset[\"validation\"])"
      ]
    },
    {
      "cell_type": "code",
      "execution_count": null,
      "metadata": {
        "id": "jSdEORX4FZq0",
        "outputId": "41ab25d3-9e54-4b1b-d7f1-f5fe70a78bb4",
        "colab": {
          "referenced_widgets": [
            "7ed5670682ba44099963f697012f53ee",
            "baf3d1e69deb45989cbb2c5aa8b46fb9",
            "3c4aa1388b734854b35a2058bfa9886f"
          ]
        }
      },
      "outputs": [
        {
          "data": {
            "application/vnd.jupyter.widget-view+json": {
              "model_id": "7ed5670682ba44099963f697012f53ee",
              "version_major": 2,
              "version_minor": 0
            },
            "text/plain": [
              "  0%|          | 0/1474 [00:00<?, ?it/s]"
            ]
          },
          "metadata": {},
          "output_type": "display_data"
        },
        {
          "data": {
            "application/vnd.jupyter.widget-view+json": {
              "model_id": "baf3d1e69deb45989cbb2c5aa8b46fb9",
              "version_major": 2,
              "version_minor": 0
            },
            "text/plain": [
              "  0%|          | 0/185 [00:00<?, ?it/s]"
            ]
          },
          "metadata": {},
          "output_type": "display_data"
        },
        {
          "data": {
            "application/vnd.jupyter.widget-view+json": {
              "model_id": "3c4aa1388b734854b35a2058bfa9886f",
              "version_major": 2,
              "version_minor": 0
            },
            "text/plain": [
              "  0%|          | 0/184 [00:00<?, ?it/s]"
            ]
          },
          "metadata": {},
          "output_type": "display_data"
        }
      ],
      "source": [
        "embeddings = {}\n",
        "for key in dataset:\n",
        "    embeddings[key] = embed(trainer, dataset[key])"
      ]
    },
    {
      "cell_type": "code",
      "execution_count": null,
      "metadata": {
        "id": "UL5W2PcsFZq0",
        "outputId": "8df8aee0-4c72-49ee-dfd9-744784d95870",
        "colab": {
          "referenced_widgets": [
            "c466649ca695464d94fa42b58eb47334",
            "f9bb67b08aea42fd9924b886349810f6",
            "056abf58f4f74e5987beb1952ad60f95"
          ]
        }
      },
      "outputs": [
        {
          "data": {
            "application/vnd.jupyter.widget-view+json": {
              "model_id": "c466649ca695464d94fa42b58eb47334",
              "version_major": 2,
              "version_minor": 0
            },
            "text/plain": [
              "  0%|          | 0/5894 [00:00<?, ?it/s]"
            ]
          },
          "metadata": {},
          "output_type": "display_data"
        },
        {
          "data": {
            "application/vnd.jupyter.widget-view+json": {
              "model_id": "f9bb67b08aea42fd9924b886349810f6",
              "version_major": 2,
              "version_minor": 0
            },
            "text/plain": [
              "  0%|          | 0/737 [00:00<?, ?it/s]"
            ]
          },
          "metadata": {},
          "output_type": "display_data"
        },
        {
          "data": {
            "application/vnd.jupyter.widget-view+json": {
              "model_id": "056abf58f4f74e5987beb1952ad60f95",
              "version_major": 2,
              "version_minor": 0
            },
            "text/plain": [
              "  0%|          | 0/736 [00:00<?, ?it/s]"
            ]
          },
          "metadata": {},
          "output_type": "display_data"
        }
      ],
      "source": [
        "label_pos_tags = [\"NOUN\", \"VERB\", \"PROPN\"]\n",
        "\n",
        "nlp = spacy.load(\"ja_core_news_sm\")\n",
        "corpus = {}\n",
        "for key in dataset:\n",
        "    corpus[key] = []\n",
        "    for text in tqdm(dataset[key][\"title\"]):\n",
        "        corpus[key].append(\" \".join(\n",
        "            [token.lemma_\n",
        "             for token in nlp(text) if token.pos_ in label_pos_tags\n",
        "            ]\n",
        "        ))"
      ]
    },
    {
      "cell_type": "code",
      "execution_count": null,
      "metadata": {
        "id": "q83w-K8QFZq0"
      },
      "outputs": [],
      "source": [
        "vectorizer = TfidfVectorizer(min_df=10, lowercase=False)\n",
        "vectorizer.fit(corpus[\"train\"])\n",
        "vocab = np.array(vectorizer.get_feature_names_out())\n",
        "X = {}\n",
        "for key in dataset:\n",
        "    X[key] = vectorizer.transform(corpus[key]).toarray()\n",
        "vocab_embeddings = np.dot((X[\"train\"] / X[\"train\"].sum(0)).T, embeddings[\"train\"])"
      ]
    },
    {
      "cell_type": "code",
      "execution_count": null,
      "metadata": {
        "id": "EAS6rnpnFZq1"
      },
      "outputs": [],
      "source": [
        "n_clusters = 20\n",
        "kmeans = KMeans(n_clusters=n_clusters, n_init='auto', random_state=123)\n",
        "kmeans.fit(embeddings[\"train\"])\n",
        "centers = kmeans.cluster_centers_"
      ]
    },
    {
      "cell_type": "code",
      "execution_count": null,
      "metadata": {
        "id": "b7etIAw3FZq1",
        "outputId": "fa476b10-5af4-423c-f114-2245b649b3ed"
      },
      "outputs": [
        {
          "name": "stdout",
          "output_type": "stream",
          "text": [
            "デジ Mac Ubuntu 機能 容量 使える デバイス クラウド ソフト デザイン 動画 使う バッテリー カメラ PC ipad 専用 ダウンロード IT データ\n",
            "--------------------------------------------------------------------------------\n",
            "たち 事情 独女 女子 しまう 結婚 モテる 男性 本音 出会い アリ 運命 男子 効く 職場 合う ホント 女性 もの こと\n",
            "--------------------------------------------------------------------------------\n",
            "話題 アップル 発生 原因 インターネット 今度 パソコン 家電 視聴 SNS センター 大丈夫 パナソニック 電子 未来 売れる ソニー テレビ 節電 VS\n",
            "--------------------------------------------------------------------------------\n",
            "ニュース 売れる 事故 被害 韓国 影響 炎上 広がる テレビ ツイッター 前田 ネット 名前 激怒 期待 事件 放送 過去 ちゃん コメント\n",
            "--------------------------------------------------------------------------------\n",
            "選手 真司 言及 五輪 明かす ファン 代表 サッカー 報道 絶賛 なでしこ チーム 香川 怒る 連発 アナ ロンドン 日本 石井 怒り\n",
            "--------------------------------------------------------------------------------\n",
            "Android インチ 予定 向け 開始 プラチナ OS 月額 ソフトバンク イー lte 対応 搭載 wimax 機種 ドコモ スマートフォン tab タブレット 追加\n",
            "--------------------------------------------------------------------------------\n",
            "SPORTS watch 星野 斎藤 巨人 岡田 引退 ダルビッシュ ノム 試合 開幕 長友 本田 吉田 監督 野球 真央 田中 松井 W杯\n",
            "--------------------------------------------------------------------------------\n",
            "映画 ヒロイン 女優 人生 恋人 奇跡 経験 家族 泣く バトル 天才 まとめ ぶり セクシー 少女 超える 観る DVD 描く 大島\n",
            "--------------------------------------------------------------------------------\n",
            "ドライブ カード ノート 新型 最新 商品 登場 イベント 募集 徹底 In レビューアー よる 本日 社長 リーダー 調査 グッズ 開催 ニコニコ\n",
            "--------------------------------------------------------------------------------\n",
            "android アプリ 画面 レポート note 試す for ねこ 文字 sim galaxy optimus jojo HTC 操作 ルーター スマートフォン iii まとめる 測定\n",
            "--------------------------------------------------------------------------------\n",
            "売れ筋 チェック プレーヤー USB パナソニック 電気 デジカメ 感覚 電源 電子 発売 電池 ソニー 音声 インターネット touch メーカー 家庭 撮影 家電\n",
            "--------------------------------------------------------------------------------\n",
            "週間 ランキング ライフスタイル ビューティー 登録 お気に入り ビューティ 行動 記事 彼氏 恋愛 ダイエット みんな UP レシピ 美肌 OK 方法 作る 絶対\n",
            "--------------------------------------------------------------------------------\n",
            "過ごす 愛す 婚活 モテる オンナ アリ 結婚 デート ブランド 男性 プロジェクト 入れる ケーキ 料理 ひとり たち 働く トレンド 本当 女性\n",
            "--------------------------------------------------------------------------------\n",
            "気分 贈る ファッション スイーツ 大人 入れる 美容 クリスマス なれる 食べる ホテル 変える アイテム 伝統 目指す カフェ バレンタイン 秘訣 選ぶ 楽しむ\n",
            "--------------------------------------------------------------------------------\n",
            "発言 物議 非難 殺到 次ぐ 続出 掲示 騒然 両論 賛否 批判 対する 怒り 母親 騒動 波紋 行為 卒業 中島 受ける\n",
            "--------------------------------------------------------------------------------\n",
            "説教 辛口 部屋 年収 図鑑 研究 プレイヤー ビジネスマン Vol 転職 活動 会社 ビジネス 人事 まま ウラ 採用 ソーシャル メディア 活用\n",
            "--------------------------------------------------------------------------------\n",
            "提供 更新 ソフトウェア NTT 具合 IS arrows phone KDDI AQUOS isw 開始 SH ドコモ medias tab xperia xi Mobile eluga\n",
            "--------------------------------------------------------------------------------\n",
            "最近 オススメ 今週 android optimus スペック 画面 HTC siii note アプリ galaxy ルーター レポート ハイ ディスプレイ mm スマートフォン jojo 全部\n",
            "--------------------------------------------------------------------------------\n",
            "ハリウッド スター ポスター ナイト 上陸 来日 描く 主演 解禁 公開 ストーリー 俳優 映像 アカデミー 感動 ダーク 超える 映画 予告 プレミア\n",
            "--------------------------------------------------------------------------------\n",
            "得る 知る 虎の巻 テクニック 管理 ファイル 便利 ソフト 裏技 ワザ IT PC 活用 使う 役立つ フラッシュバック 満載 使える 情報 必須\n",
            "--------------------------------------------------------------------------------\n"
          ]
        }
      ],
      "source": [
        "similarities = cosine_similarity(vocab_embeddings, centers)\n",
        "for i in range(similarities.shape[-1]):\n",
        "    indices = np.argsort(- similarities[:,i])\n",
        "    print(\" \".join(list(vocab[indices[:20]])))\n",
        "    print(\"-\"*80)"
      ]
    },
    {
      "cell_type": "code",
      "execution_count": null,
      "metadata": {
        "id": "ihQM4kGwFZq1"
      },
      "outputs": [],
      "source": []
    }
  ],
  "metadata": {
    "kernelspec": {
      "display_name": "base",
      "language": "python",
      "name": "python3"
    },
    "language_info": {
      "codemirror_mode": {
        "name": "ipython",
        "version": 3
      },
      "file_extension": ".py",
      "mimetype": "text/x-python",
      "name": "python",
      "nbconvert_exporter": "python",
      "pygments_lexer": "ipython3",
      "version": "3.11.7"
    },
    "colab": {
      "provenance": [],
      "include_colab_link": true
    }
  },
  "nbformat": 4,
  "nbformat_minor": 0
}